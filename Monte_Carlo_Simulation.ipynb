{
  "nbformat": 4,
  "nbformat_minor": 0,
  "metadata": {
    "colab": {
      "name": "Monte Carlo Simulation.ipynb",
      "provenance": [],
      "authorship_tag": "ABX9TyPw8X09wn9D4YQF6PlKnlLK",
      "include_colab_link": true
    },
    "kernelspec": {
      "name": "python3",
      "display_name": "Python 3"
    }
  },
  "cells": [
    {
      "cell_type": "markdown",
      "metadata": {
        "id": "view-in-github",
        "colab_type": "text"
      },
      "source": [
        "<a href=\"https://colab.research.google.com/github/MaryAdewunmi/Cancer-Research/blob/main/Monte_Carlo_Simulation.ipynb\" target=\"_parent\"><img src=\"https://colab.research.google.com/assets/colab-badge.svg\" alt=\"Open In Colab\"/></a>"
      ]
    },
    {
      "cell_type": "markdown",
      "metadata": {
        "id": "Rk7_Y2h-rA4Q"
      },
      "source": [
        "**Monte Carlo Integration is a technique for numerical integration using random numbers.It is a particular Monte Carlo method thatnumerically computes a definite integral.**"
      ]
    },
    {
      "cell_type": "code",
      "metadata": {
        "id": "W9gEx4gN1J1P"
      },
      "source": [
        "import numpy as np\r\n",
        "\r\n",
        "def func1(x):\r\n",
        "  return x**2\r\n",
        "  "
      ],
      "execution_count": 1,
      "outputs": []
    },
    {
      "cell_type": "code",
      "metadata": {
        "id": "evTrIUao3nD7"
      },
      "source": [
        "def func1_int(a,b):\r\n",
        "  return (1/3)*(b**3-a**3)\r\n",
        "\r\n"
      ],
      "execution_count": 4,
      "outputs": []
    },
    {
      "cell_type": "code",
      "metadata": {
        "id": "dgOxCwOd3m_J"
      },
      "source": [
        "def mc_integrate(func, a, b, n = 1000):\r\n",
        "   # Monte Carlo integration from a to b\r\n",
        "\r\n",
        "   vals = np.random.uniform(a, b, n)\r\n",
        "   y = [func(val) for val in vals]\r\n",
        "   y_mean = np.sum(y)/n\r\n",
        "   integ = (b-a) * y_mean\r\n",
        "   return integ"
      ],
      "execution_count": 22,
      "outputs": []
    },
    {
      "cell_type": "code",
      "metadata": {
        "id": "dda2Ceid6Lm-",
        "outputId": "0a27b932-5fd1-448e-8989-fa7f5ed54300",
        "colab": {
          "base_uri": "https://localhost:8080/"
        }
      },
      "source": [
        "\r\n",
        "print(f\"Monte Carlo Solution:{mc_integrate(func1,-2,2,500000): .4f}\")\r\n",
        "print(f\"Analytical Solution:{func1_int(-2,2): .4f}\")\r\n"
      ],
      "execution_count": 23,
      "outputs": [
        {
          "output_type": "stream",
          "text": [
            "Monte Carlo Solution: 5.3310\n",
            "Analytical Solution: 5.3333\n"
          ],
          "name": "stdout"
        }
      ]
    },
    {
      "cell_type": "code",
      "metadata": {
        "id": "NGLd86DM6LTE"
      },
      "source": [
        ""
      ],
      "execution_count": null,
      "outputs": []
    },
    {
      "cell_type": "code",
      "metadata": {
        "id": "LZdcKUc66LI6"
      },
      "source": [
        ""
      ],
      "execution_count": null,
      "outputs": []
    },
    {
      "cell_type": "code",
      "metadata": {
        "id": "Ej0QK7vy3m6V"
      },
      "source": [
        "def vals = np.random"
      ],
      "execution_count": null,
      "outputs": []
    },
    {
      "cell_type": "code",
      "metadata": {
        "id": "DpgIv0Fb3m3V"
      },
      "source": [
        ""
      ],
      "execution_count": null,
      "outputs": []
    },
    {
      "cell_type": "code",
      "metadata": {
        "id": "r_X0b2jT3my3"
      },
      "source": [
        ""
      ],
      "execution_count": null,
      "outputs": []
    },
    {
      "cell_type": "code",
      "metadata": {
        "id": "zefY57_m3mv4"
      },
      "source": [
        ""
      ],
      "execution_count": null,
      "outputs": []
    },
    {
      "cell_type": "code",
      "metadata": {
        "id": "78pB8yxE3mrE"
      },
      "source": [
        ""
      ],
      "execution_count": null,
      "outputs": []
    },
    {
      "cell_type": "code",
      "metadata": {
        "id": "mzi9fVWi3moe"
      },
      "source": [
        ""
      ],
      "execution_count": null,
      "outputs": []
    },
    {
      "cell_type": "code",
      "metadata": {
        "id": "NBQkdWN13mZL"
      },
      "source": [
        ""
      ],
      "execution_count": null,
      "outputs": []
    },
    {
      "cell_type": "code",
      "metadata": {
        "id": "W2kUnvfL3mG6"
      },
      "source": [
        ""
      ],
      "execution_count": null,
      "outputs": []
    }
  ]
}